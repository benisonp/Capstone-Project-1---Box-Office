{
 "cells": [
  {
   "cell_type": "markdown",
   "metadata": {},
   "source": [
    "## Table of Contents\n",
    "- [Introduction](#Introduction)\n",
    "    - [Imports](#Imports)\n",
    "    - [Data Wrangling](#Data-Wrangling)\n",
    "- [Preprocessing](#Preprocessing)\n",
    "    - [Transformers](#Transformers)\n",
    "- [Linear Models](#Linear-Models)\n",
    "    - [Ridge Regression](#Ridge-Regression)\n",
    "    - [Elastic Net](#Elastic-Net)\n",
    "- [Tree Based Models](#Tree-Based-Models)\n",
    "    - [Random Forest](#Random-Forest)\n",
    "    - [XGBoost](#XGBoost)\n",
    "- [Comparing RMSE of XGBoost and Random Forest](#Comparing-RMSE-of-XGBoost-and-Random-Forest)\n",
    "- [Feature Importances and Directionality](#Feature-Importances-and-Directionality)\n",
    "- [Visualizations](#Visualizations)\n",
    "\n",
    "- [Horror Movie only](#Horror-Movie-only)\n",
    "    - [Feature Importances and Directionality for Horror Only](#Feature-Importances-and-Directionality-for-Horror-Only)"
   ]
  },
  {
   "cell_type": "markdown",
   "metadata": {},
   "source": [
    "# Introduction"
   ]
  },
  {
   "cell_type": "markdown",
   "metadata": {},
   "source": [
    "In this notebook, we will try to predict a movie's return on investment using various models, and assess the \n",
    "performance of each model as well as obtaining actionable insights from the models."
   ]
  },
  {
   "cell_type": "markdown",
   "metadata": {},
   "source": [
    "## Imports"
   ]
  },
  {
   "cell_type": "code",
   "execution_count": 1,
   "metadata": {},
   "outputs": [],
   "source": [
    "import pandas as pd\n",
    "import numpy as np\n",
    "import seaborn as sns\n",
    "import matplotlib.pyplot as plt\n",
    "import xgboost as xgb\n",
    "\n",
    "from sklearn.model_selection import train_test_split, GridSearchCV, RandomizedSearchCV\n",
    "from sklearn.linear_model import ElasticNet, Ridge\n",
    "from sklearn.ensemble import RandomForestRegressor\n",
    "from sklearn.preprocessing import StandardScaler, OneHotEncoder\n",
    "from sklearn.impute import SimpleImputer\n",
    "from sklearn.pipeline import Pipeline\n",
    "from sklearn.metrics import mean_squared_error \n",
    "from sklearn.compose import ColumnTransformer\n",
    "from xgboost import XGBRegressor\n",
    "\n"
   ]
  },
  {
   "cell_type": "markdown",
   "metadata": {},
   "source": [
    "## Data Wrangling"
   ]
  },
  {
   "cell_type": "code",
   "execution_count": 2,
   "metadata": {},
   "outputs": [
    {
     "name": "stderr",
     "output_type": "stream",
     "text": [
      "/Users/benisonp/anaconda3/lib/python3.7/site-packages/ipykernel_launcher.py:6: SettingWithCopyWarning: \n",
      "A value is trying to be set on a copy of a slice from a DataFrame.\n",
      "Try using .loc[row_indexer,col_indexer] = value instead\n",
      "\n",
      "See the caveats in the documentation: http://pandas.pydata.org/pandas-docs/stable/indexing.html#indexing-view-versus-copy\n",
      "  \n",
      "/Users/benisonp/anaconda3/lib/python3.7/site-packages/ipykernel_launcher.py:7: SettingWithCopyWarning: \n",
      "A value is trying to be set on a copy of a slice from a DataFrame.\n",
      "Try using .loc[row_indexer,col_indexer] = value instead\n",
      "\n",
      "See the caveats in the documentation: http://pandas.pydata.org/pandas-docs/stable/indexing.html#indexing-view-versus-copy\n",
      "  import sys\n"
     ]
    }
   ],
   "source": [
    "data = pd.read_csv('domestic_boxoffice.csv', encoding='latin-1')\n",
    "data = data.drop(['Title', 'Year', 'Release Date', 'Profit (millions)', 'Domestic Gross (millions)'], axis=1)\n",
    "# Some wrangling\n",
    "known_genres = data[data['Genre'].str.contains('Unknown') == False]\n",
    "split_genres = known_genres['Genre'].str.split(' ', expand=True)\n",
    "known_genres['Genre 1'] = split_genres.loc[:, 0]\n",
    "known_genres['Genre 2'] = split_genres.loc[:, 1] \n",
    "genre_1_df = known_genres.drop(['Genre', 'Genre 2'], axis=1)\n",
    "genre_1_df.columns = ['Genre' if col =='Genre 1' else col for col in genre_1_df.columns]\n",
    "genre_2_df = known_genres.drop(['Genre', 'Genre 1'], axis=1)\n",
    "genre_2_df.columns = ['Genre' if col =='Genre 2' else col for col in genre_2_df.columns]\n",
    "\n",
    "df = pd.concat([genre_1_df, genre_2_df], sort=False).reset_index(drop=True)\n",
    "df = df.dropna(subset=['Rating', 'Genre', 'Domestic ROI Multiplier'])\n",
    "df = df.loc[~((df.Rating=='Unrated') | (df.Rating=='UNRATED') | (df.Rating=='Not Rated') | (df.Rating=='NOT RATED') | \n",
    "              (df.Rating=='Approved') | (df.Rating=='APPROVED')), :]\n",
    "df['Domestic ROI Multiplier'] = np.log(df['Domestic ROI Multiplier'])"
   ]
  },
  {
   "cell_type": "markdown",
   "metadata": {},
   "source": [
    "# Preprocessing"
   ]
  },
  {
   "cell_type": "code",
   "execution_count": 3,
   "metadata": {},
   "outputs": [],
   "source": [
    "y = df['Domestic ROI Multiplier'] \n",
    "X = df.drop('Domestic ROI Multiplier', axis=1)\n",
    "X_train, X_test, y_train, y_test = train_test_split(X, y, test_size=0.3, random_state=42)"
   ]
  },
  {
   "cell_type": "markdown",
   "metadata": {},
   "source": [
    "## Transformers"
   ]
  },
  {
   "cell_type": "code",
   "execution_count": 4,
   "metadata": {},
   "outputs": [],
   "source": [
    "numeric_transformer = Pipeline(steps=[('imputer', SimpleImputer(strategy='median')), \n",
    "                                     ('scaler', StandardScaler())])\n",
    "categorical_transformer = Pipeline(steps=[('onehot', OneHotEncoder(handle_unknown='ignore'))])\n",
    "\n",
    "numeric_features = df.select_dtypes(include=['int64', 'float64']).drop(['Domestic ROI Multiplier'], axis=1).columns\n",
    "categorical_features = df.select_dtypes(include=['object']).columns\n",
    "\n",
    "preprocessor = ColumnTransformer(transformers=[('num', numeric_transformer, numeric_features),\n",
    "                                              ('cat', categorical_transformer, categorical_features)])"
   ]
  },
  {
   "cell_type": "markdown",
   "metadata": {},
   "source": [
    "# Linear Models"
   ]
  },
  {
   "cell_type": "markdown",
   "metadata": {},
   "source": [
    "## Ridge Regression"
   ]
  },
  {
   "cell_type": "code",
   "execution_count": 5,
   "metadata": {},
   "outputs": [
    {
     "name": "stdout",
     "output_type": "stream",
     "text": [
      "Tuned Ridge Alpha: {'ridge__alpha': 11.421052631578947}\n",
      "Tuned Ridge R squared: 0.1775662776599889\n"
     ]
    }
   ],
   "source": [
    "pipeline_ridge = Pipeline(steps=[('preprocessor', preprocessor), ('ridge', Ridge())])\n",
    "parameters = {'ridge__alpha':np.linspace(1,100, 20)}\n",
    "# Tune parameters\n",
    "gm_cv = GridSearchCV(pipeline_ridge, parameters, cv = 4)\n",
    "# Fit pipeline to training set\n",
    "gm_cv.fit(X_train, y_train)\n",
    "# Compute and print the metrics\n",
    "r2 = gm_cv.score(X_test, y_test)\n",
    "print(\"Tuned Ridge Alpha: {}\".format(gm_cv.best_params_))\n",
    "print(\"Tuned Ridge R squared: {}\".format(r2))"
   ]
  },
  {
   "cell_type": "markdown",
   "metadata": {},
   "source": [
    "## Elastic Net "
   ]
  },
  {
   "cell_type": "code",
   "execution_count": 6,
   "metadata": {},
   "outputs": [
    {
     "name": "stdout",
     "output_type": "stream",
     "text": [
      "Tuned ElasticNet Parameters: {'elasticnet__alpha': 0.01, 'elasticnet__l1_ratio': 0.05}\n",
      "Tuned ElasticNet R squared: 0.17598209380490082\n"
     ]
    }
   ],
   "source": [
    "pipeline_elastic = Pipeline(steps=[('preprocessor', preprocessor), ('elasticnet', ElasticNet())])\n",
    "parameters = {'elasticnet__l1_ratio':np.linspace(0.05,0.1,10), 'elasticnet__alpha':np.linspace(0.01,1, 20)}\n",
    "# Tune parameters\n",
    "gm_cv = GridSearchCV(pipeline_elastic, parameters, cv = 4)\n",
    "# Fit pipeline to training set\n",
    "gm_cv.fit(X_train, y_train)\n",
    "# Compute and print the metrics\n",
    "r2 = gm_cv.score(X_test, y_test)\n",
    "print(\"Tuned ElasticNet Parameters: {}\".format(gm_cv.best_params_))\n",
    "print(\"Tuned ElasticNet R squared: {}\".format(r2))"
   ]
  },
  {
   "cell_type": "markdown",
   "metadata": {},
   "source": [
    "# Tree Based Models"
   ]
  },
  {
   "cell_type": "markdown",
   "metadata": {},
   "source": [
    "## Random Forest"
   ]
  },
  {
   "cell_type": "code",
   "execution_count": 8,
   "metadata": {},
   "outputs": [
    {
     "name": "stdout",
     "output_type": "stream",
     "text": [
      "The best number of estimators is 600\n",
      "The best max depth is 30\n",
      "The best approach to max_features is auto\n"
     ]
    }
   ],
   "source": [
    "pipeline_forest = Pipeline(steps=[('preprocessor', preprocessor), ('regressor', RandomForestRegressor())])\n",
    "parameters = {'regressor__n_estimators': [200, 400, 600, 800, 1000, 1200, 1400, 1600, 1800, 2000],\n",
    "            'regressor__max_depth': [10, 20, 30, 40, 50],\n",
    "            'regressor__max_features': ['auto', 'sqrt']}\n",
    "rf_cv = GridSearchCV(pipeline_forest, parameters, cv=4)\n",
    "rf_cv.fit(X_train, y_train)\n",
    "\n",
    "print(\"The best number of estimators is {}\".format(rf_cv.best_params_['regressor__n_estimators']))\n",
    "print(\"The best max depth is {}\".format(rf_cv.best_params_['regressor__max_depth']))\n",
    "print(\"The best approach to max_features is {}\".format(rf_cv.best_params_['regressor__max_features']))\n"
   ]
  },
  {
   "cell_type": "markdown",
   "metadata": {},
   "source": [
    "### Random Forest with tuned hyperparameters"
   ]
  },
  {
   "cell_type": "code",
   "execution_count": 15,
   "metadata": {},
   "outputs": [],
   "source": [
    "tuned_pipeline_forest = Pipeline(steps=[('preprocessor', preprocessor), \n",
    "                                  ('regressor', RandomForestRegressor(n_estimators=600, max_features='auto', \n",
    "                                                                     max_depth=30))])\n",
    "tuned_pipeline_forest.fit(X_train, y_train)\n",
    "importances = tuned_pipeline_forest.named_steps['regressor'].feature_importances_ # Extract feature importances"
   ]
  },
  {
   "cell_type": "markdown",
   "metadata": {},
   "source": [
    "## XGBoost"
   ]
  },
  {
   "cell_type": "code",
   "execution_count": 12,
   "metadata": {},
   "outputs": [
    {
     "name": "stdout",
     "output_type": "stream",
     "text": [
      "{'regressor__objective': 'reg:squarederror', 'regressor__max_depth': 8, 'regressor__learning_rate': 0.1, 'regressor__colsample_bytree': 0.39999999999999997, 'regressor__alpha': 1.0}\n"
     ]
    }
   ],
   "source": [
    "import warnings\n",
    "warnings.simplefilter(action='ignore', category=FutureWarning)\n",
    "\n",
    "pipeline_xgb = Pipeline(steps=[('preprocessor', preprocessor), ('regressor', XGBRegressor())])\n",
    "params = {'regressor__objective':['reg:squarederror'],\n",
    "          'regressor__colsample_bytree': np.arange(0.2, 0.5, 0.05),\n",
    "          'regressor__learning_rate': np.arange(0, 1, 0.1),\n",
    "          'regressor__max_depth': np.arange(3, 10, 1), \n",
    "          'regressor__alpha': np.arange(1, 10, 0.5)}\n",
    "\n",
    "xgb_cv = RandomizedSearchCV(pipeline_xgb, params, cv=4, scoring='neg_mean_squared_error')\n",
    "xgb_cv.fit(X_train, y_train)\n",
    "# Retrieve feature importances from XGBoost\n",
    "xgb_feature_importances = xgb_cv.best_estimator_.named_steps['regressor'].feature_importances_\n",
    "\n",
    "print(xgb_cv.best_params_)\n"
   ]
  },
  {
   "cell_type": "markdown",
   "metadata": {},
   "source": [
    "### XGBoost with tuned hyperparameters"
   ]
  },
  {
   "cell_type": "code",
   "execution_count": 21,
   "metadata": {},
   "outputs": [
    {
     "data": {
      "text/plain": [
       "Pipeline(memory=None,\n",
       "     steps=[('preprocessor', ColumnTransformer(n_jobs=None, remainder='drop', sparse_threshold=0.3,\n",
       "         transformer_weights=None,\n",
       "         transformers=[('num', Pipeline(memory=None,\n",
       "     steps=[('imputer', SimpleImputer(copy=True, fill_value=None, missing_values=nan,\n",
       "       strategy='median', verbo...lpha=0, reg_lambda=1, scale_pos_weight=1,\n",
       "       seed=None, silent=None, subsample=1, verbosity=1))])"
      ]
     },
     "execution_count": 21,
     "metadata": {},
     "output_type": "execute_result"
    }
   ],
   "source": [
    "tuned_pipeline_xgb = Pipeline(steps=[('preprocessor', preprocessor), \n",
    "                                     ('regressor', XGBRegressor(learning_rate=0.1, colsample_bytree=0.3999, \n",
    "                                                               alpha=1.0, max_depth=8, objective='reg:squarederror'))])\n",
    "tuned_pipeline_xgb.fit(X_train, y_train)"
   ]
  },
  {
   "cell_type": "markdown",
   "metadata": {},
   "source": [
    "## Comparing RMSE of XGBoost and Random Forest"
   ]
  },
  {
   "cell_type": "code",
   "execution_count": 131,
   "metadata": {},
   "outputs": [
    {
     "name": "stdout",
     "output_type": "stream",
     "text": [
      "The RMSE for a naive model is 1.2525765126107868\n",
      "The RMSE of the Random Forest model is 0.9352655019358237\n",
      "The RMSE of the XGBoost model is 0.9563101801179906\n"
     ]
    }
   ],
   "source": [
    "medianpred = np.median(df['Domestic ROI Multiplier'])\n",
    "baseline_pred = [medianpred] * len(y_test)\n",
    "baseline_rmse = np.sqrt(mean_squared_error(y_test, baseline_pred))\n",
    "print(\"The RMSE for a naive model is {}\".format(baseline_rmse))\n",
    "\n",
    "rf_ypred = tuned_pipeline_forest.predict(X_test)\n",
    "rf_rmse = np.sqrt(mean_squared_error(y_test, rf_ypred))\n",
    "print(\"The RMSE of the Random Forest model is {}\".format(rf_rmse))\n",
    "\n",
    "xgb_ypred = tuned_pipeline_xgb.predict(X_test)\n",
    "xgb_rmse = np.sqrt(mean_squared_error(y_test, xgb_ypred))\n",
    "print(\"The RMSE of the XGBoost model is {}\".format(xgb_rmse))"
   ]
  },
  {
   "cell_type": "markdown",
   "metadata": {},
   "source": [
    "Compared to the naive model, which predicts the median ROI in all cases, both the random forest and XGBoost do well.\n",
    "Between the Random Forest and XGBoost model, both have similar RMSEs, but because the Random Forest RMSE is just a \n",
    "little bit lower, we will go with this model moving forward."
   ]
  },
  {
   "cell_type": "markdown",
   "metadata": {},
   "source": [
    "## Feature Importances and Directionality"
   ]
  },
  {
   "cell_type": "code",
   "execution_count": 112,
   "metadata": {},
   "outputs": [
    {
     "name": "stdout",
     "output_type": "stream",
     "text": [
      "        Feature Names  Random Forest Importances  Coefficients\n",
      "0   Budget (millions)                   0.232363     -0.153137\n",
      "4            RT score                   0.177266      0.301591\n",
      "1             Runtime                   0.111755     -0.028778\n",
      "2           Metascore                   0.108264     -0.064059\n",
      "3          IMDB score                   0.103535      0.211299\n",
      "9                   R                   0.024482     -0.286321\n",
      "29              Drama                   0.018343     -0.229743\n",
      "20            October                   0.017277     -0.235682\n",
      "21          September                   0.014167     -0.178666\n",
      "34             Horror                   0.013837      0.724080\n"
     ]
    }
   ],
   "source": [
    "# Minor wrangling to create dataset with feature names and linear coefficients\n",
    "num_features = list(numeric_features) # Creating list of numeric features to which we will append the categorical features\n",
    "onehot_features = tuned_pipeline_forest.named_steps['preprocessor'].transformers_[1][1].named_steps['onehot'].get_feature_names()\n",
    "for item in onehot_features:\n",
    "    num_features.append(item)\n",
    "feature_names = num_features.copy() # List of feature names\n",
    "feature_names = [name.split('_')[1] if '_' in name else name for name in feature_names]\n",
    "\n",
    "elasticnet_coefs = gm_cv.best_estimator_.named_steps['elasticnet'].coef_\n",
    "elasticnet_df = pd.DataFrame({\"Feature Names\": feature_names, \n",
    "                           \"Coefficients\":elasticnet_coefs}) \n",
    "feature_importance_df = pd.DataFrame({\"Feature Names\": feature_names,\n",
    "                                     \"Random Forest Importances\":importances,\n",
    "                                     \"XGB Importances\":xgb_feature_importances})\n",
    "feature_importance_coef_df = pd.merge(feature_importance_df, elasticnet_df, how='inner', on ='Feature Names')\n",
    "rf_feature_df = feature_importance_coef_df.sort_values(by=\"Random Forest Importances\", ascending=False)\n",
    "print(rf_feature_df[['Feature Names', 'Random Forest Importances', 'Coefficients']].head(n=10)) # Top 10 features of importance"
   ]
  },
  {
   "cell_type": "markdown",
   "metadata": {},
   "source": [
    "# Visualizations"
   ]
  },
  {
   "cell_type": "code",
   "execution_count": 133,
   "metadata": {},
   "outputs": [
    {
     "data": {
      "image/png": "[encoded data removed]",
      "text/plain": [
       "<Figure size 1152x432 with 1 Axes>"
      ]
     },
     "metadata": {
      "needs_background": "light"
     },
     "output_type": "display_data"
    },
    {
     "data": {
      "image/png": "[encoded data removed]",
      "text/plain": [
       "<Figure size 1152x432 with 1 Axes>"
      ]
     },
     "metadata": {
      "needs_background": "light"
     },
     "output_type": "display_data"
    }
   ],
   "source": [
    "plt.figure(figsize=(16, 6))\n",
    "sns.barplot(data=rf_feature_df, x='Feature Names', y='Random Forest Importances')\n",
    "plt.xticks(rotation=90)\n",
    "plt.title(\"Random Forest Feature Importances\", size=20)\n",
    "plt.savefig('Random Forest Feature Importances.png', bbox_inches='tight')\n",
    "plt.show()\n",
    "\n",
    "plt.figure(figsize=(16, 6))\n",
    "sns.barplot(data=rf_feature_df, x='Feature Names', y='Coefficients')\n",
    "plt.xticks(rotation=90)\n",
    "plt.title(\"Feature Coefficients from Linear Regression\", size=20)\n",
    "plt.savefig('Feature Coefficients from Linear Regression.png', bbox_inches='tight')\n",
    "plt.show()\n",
    "\n"
   ]
  },
  {
   "cell_type": "markdown",
   "metadata": {},
   "source": [
    "# Horror Movie only"
   ]
  },
  {
   "cell_type": "code",
   "execution_count": 54,
   "metadata": {},
   "outputs": [],
   "source": [
    "horror_df = df[df.Genre=='Horror']\n",
    "\n",
    "# Preprocessing of data \n",
    "y_horror = horror_df['Domestic ROI Multiplier'] \n",
    "X_horror = horror_df.drop('Domestic ROI Multiplier', axis=1)\n",
    "X_train_horror, X_test_horror, y_train_horror, y_test_horror = train_test_split(X_horror, y_horror, \n",
    "                                                                                test_size=0.3, random_state=42)\n",
    "\n",
    "numeric_features_horror = horror_df.select_dtypes(include=['int64', 'float64']).drop(['Domestic ROI Multiplier'], axis=1).columns\n",
    "categorical_features_horror = horror_df.select_dtypes(include=['object']).columns\n",
    "\n",
    "preprocessor_horror = ColumnTransformer(transformers=[('num', numeric_transformer, numeric_features_horror),\n",
    "                                              ('cat', categorical_transformer, categorical_features_horror)])"
   ]
  },
  {
   "cell_type": "markdown",
   "metadata": {},
   "source": [
    "## Elastic Net - Horror only"
   ]
  },
  {
   "cell_type": "code",
   "execution_count": 92,
   "metadata": {},
   "outputs": [
    {
     "name": "stdout",
     "output_type": "stream",
     "text": [
      "Tuned ElasticNet Parameters: {'elasticnet__alpha': 0.21842105263157896, 'elasticnet__l1_ratio': 0.07777777777777778}\n",
      "Tuned ElasticNet R squared: 0.32683305835108334\n"
     ]
    }
   ],
   "source": [
    "pipeline_elastic_horror = Pipeline(steps=[('preprocessor', preprocessor_horror), ('elasticnet', ElasticNet())])\n",
    "parameters = {'elasticnet__l1_ratio':np.linspace(0.05,0.1,10), 'elasticnet__alpha':np.linspace(0.01,1, 20)}\n",
    "# Tune parameters\n",
    "gm_cv_horror = GridSearchCV(pipeline_elastic_horror, parameters, cv = 4)\n",
    "# Fit pipeline to training set\n",
    "gm_cv_horror.fit(X_train_horror, y_train_horror)\n",
    "# Compute and print the metrics\n",
    "r2 = gm_cv_horror.score(X_test_horror, y_test_horror)\n",
    "\n",
    "print(\"Tuned ElasticNet Parameters: {}\".format(horror_gm_cv.best_params_))\n",
    "print(\"Tuned ElasticNet R squared: {}\".format(r2))"
   ]
  },
  {
   "cell_type": "code",
   "execution_count": 79,
   "metadata": {},
   "outputs": [
    {
     "name": "stdout",
     "output_type": "stream",
     "text": [
      "The best number of estimators is 1000\n",
      "The best max depth is 20\n",
      "The best approach to max_features is sqrt\n"
     ]
    }
   ],
   "source": [
    "## Random Forest - Horror Only\n",
    "pipeline_forest_horror = Pipeline(steps=[('preprocessor', preprocessor_horror), ('regressor', RandomForestRegressor())])\n",
    "parameters = {'regressor__n_estimators': [200, 400, 600, 800, 1000, 1200, 1400, 1600, 1800, 2000],\n",
    "            'regressor__max_depth': [10, 20, 30, 40, 50],\n",
    "            'regressor__max_features': ['auto', 'sqrt']}\n",
    "rf_cv_horror = GridSearchCV(pipeline_forest_horror, parameters, cv=4)\n",
    "rf_cv_horror.fit(X_train_horror, y_train_horror)\n",
    "\n",
    "print(\"The best number of estimators is {}\".format(rf_cv_horror.best_params_['regressor__n_estimators']))\n",
    "print(\"The best max depth is {}\".format(rf_cv_horror.best_params_['regressor__max_depth']))\n",
    "print(\"The best approach to max_features is {}\".format(rf_cv_horror.best_params_['regressor__max_features']))"
   ]
  },
  {
   "cell_type": "code",
   "execution_count": 86,
   "metadata": {},
   "outputs": [
    {
     "name": "stdout",
     "output_type": "stream",
     "text": [
      "{'regressor__objective': 'reg:squarederror', 'regressor__max_depth': 5, 'regressor__learning_rate': 0.1, 'regressor__colsample_bytree': 0.35, 'regressor__alpha': 5.5}\n"
     ]
    }
   ],
   "source": [
    "## XGBoost - Horror only\n",
    "pipeline_xgb_horror = Pipeline(steps=[('preprocessor', preprocessor_horror), ('regressor', XGBRegressor())])\n",
    "params = {'regressor__objective':['reg:squarederror'],\n",
    "          'regressor__colsample_bytree': np.arange(0.2, 0.5, 0.05),\n",
    "          'regressor__learning_rate': np.arange(0, 1, 0.1),\n",
    "          'regressor__max_depth': np.arange(3, 10, 1), \n",
    "          'regressor__alpha': np.arange(1, 10, 0.5)}\n",
    "\n",
    "xgb_cv_horror = RandomizedSearchCV(pipeline_xgb_horror, params, cv=4, scoring='neg_mean_squared_error')\n",
    "xgb_cv_horror.fit(X_train_horror, y_train_horror)\n",
    "print(xgb_cv_horror.best_params_)"
   ]
  },
  {
   "cell_type": "markdown",
   "metadata": {},
   "source": [
    "## Comparing XGBoost to Random Forest for Horror only"
   ]
  },
  {
   "cell_type": "code",
   "execution_count": 132,
   "metadata": {},
   "outputs": [
    {
     "name": "stdout",
     "output_type": "stream",
     "text": [
      "The RMSE for a naive model is 1.7986661471315193\n",
      "The RMSE of the Random Forest model is 1.3733157410460062\n",
      "The RMSE of the XGBoost model is 1.4656617361039108\n"
     ]
    }
   ],
   "source": [
    "medianpred = np.median(horror_df['Domestic ROI Multiplier'])\n",
    "baseline_pred_horror = [medianpred] * len(y_test_horror)\n",
    "baseline_rmse_horror = np.sqrt(mean_squared_error(y_test_horror, baseline_pred_horror))\n",
    "print(\"The RMSE for a naive model is {}\".format(baseline_rmse_horror))\n",
    "\n",
    "rf_ypred_horror = rf_cv_horror.best_estimator_.predict(X_test_horror)\n",
    "rf_rmse_horror = np.sqrt(mean_squared_error(y_test_horror, rf_ypred_horror))\n",
    "print(\"The RMSE of the Random Forest model is {}\".format(rf_rmse_horror))\n",
    "\n",
    "xgb_ypred_horror = xgb_cv_horror.best_estimator_.predict(X_test_horror)\n",
    "xgb_rmse_horror = np.sqrt(mean_squared_error(y_test_horror, xgb_ypred_horror))\n",
    "print(\"The RMSE of the XGBoost model is {}\".format(xgb_rmse_horror))"
   ]
  },
  {
   "cell_type": "markdown",
   "metadata": {},
   "source": [
    "In this case, Random Forest still performs better than the XGBoost model."
   ]
  },
  {
   "cell_type": "markdown",
   "metadata": {},
   "source": [
    "# Feature Importances and Directionality for Horror Only"
   ]
  },
  {
   "cell_type": "code",
   "execution_count": 114,
   "metadata": {},
   "outputs": [
    {
     "name": "stdout",
     "output_type": "stream",
     "text": [
      "       Feature Names  Random Forest Importances  Coefficients\n",
      "0  Budget (millions)                   0.320475     -0.400081\n",
      "1            Runtime                   0.157215     -0.296154\n",
      "2          Metascore                   0.145168      0.286815\n",
      "3           RT score                   0.129578      0.084170\n",
      "4         IMDB score                   0.106708      0.191700\n",
      "5            October                   0.024084      0.091972\n",
      "6               July                   0.015896      0.081523\n",
      "7          September                   0.015209     -0.000000\n",
      "8              March                   0.013217     -0.152784\n",
      "9              PG-13                   0.012737      0.097598\n",
      "       Feature Names  XGB Importances  Coefficients\n",
      "0  Budget (millions)         0.220108     -0.400081\n",
      "1            Runtime         0.100603     -0.296154\n",
      "2         IMDB score         0.085250      0.191700\n",
      "3           RT score         0.079102      0.084170\n",
      "4              March         0.076074     -0.152784\n",
      "5          Metascore         0.074974      0.286815\n",
      "6            October         0.064762      0.091972\n",
      "7                May         0.044939     -0.000000\n",
      "8                  R         0.037343     -0.044092\n",
      "9               July         0.036548      0.081523\n"
     ]
    }
   ],
   "source": [
    "rf_importances_horror = rf_cv_horror.best_estimator_.named_steps['regressor'].feature_importances_\n",
    "xgb_feature_importances_horror = xgb_cv_horror.best_estimator_.named_steps['regressor'].feature_importances_\n",
    "elasticnet_coefs_horror = horror_gm_cv.best_estimator_.named_steps['elasticnet'].coef_\n",
    "\n",
    "# Create list of feature names from the horror dataset\n",
    "horror_num_features = list(numeric_features) # Creating list of numeric features to which we will append the categorical features\n",
    "onehot_features_horror = rf_cv_horror.best_estimator_.named_steps['preprocessor'].transformers_[1][1].named_steps['onehot'].get_feature_names()\n",
    "for item in onehot_features_horror:\n",
    "    horror_num_features.append(item)\n",
    "feature_names_horror = horror_num_features.copy() # List of feature names\n",
    "feature_names_horror = [name.split('_')[1] if '_' in name else name for name in feature_names_horror]\n",
    "\n",
    "# Create dataframes and merge\n",
    "elasticnet_horror_coefs = gm_cv_horror.best_estimator_.named_steps['elasticnet'].coef_\n",
    "elasticnet_df_horror = pd.DataFrame({\"Feature Names\": feature_names_horror, \n",
    "                           \"Coefficients\":elasticnet_horror_coefs}) \n",
    "feature_importance_df_horror = pd.DataFrame({\"Feature Names\": feature_names_horror,\n",
    "                                     \"Random Forest Importances\":rf_importances_horror,\n",
    "                                     \"XGB Importances\":xgb_feature_importances_horror})\n",
    "feature_importance_coef_df_horror = pd.merge(feature_importance_df_horror, elasticnet_df_horror, \n",
    "                                      how='inner', on ='Feature Names')\n",
    "\n",
    "rf_feature_df_horror = feature_importance_coef_df_horror.sort_values(by=\"Random Forest Importances\", ascending=False).reset_index()\n",
    "xgb_feature_df_horror = feature_importance_coef_df_horror.sort_values(by='XGB Importances', ascending=False).reset_index()\n",
    "\n",
    "print(rf_feature_df_horror[['Feature Names', 'Random Forest Importances', 'Coefficients']].head(n=10)) \n",
    "print(xgb_feature_df_horror[['Feature Names', 'XGB Importances', 'Coefficients']].head(n=10)) "
   ]
  },
  {
   "cell_type": "code",
   "execution_count": null,
   "metadata": {},
   "outputs": [],
   "source": []
  }
 ],
 "metadata": {
  "kernelspec": {
   "display_name": "Python 3",
   "language": "python",
   "name": "python3"
  },
  "language_info": {
   "codemirror_mode": {
    "name": "ipython",
    "version": 3
   },
   "file_extension": ".py",
   "mimetype": "text/x-python",
   "name": "python",
   "nbconvert_exporter": "python",
   "pygments_lexer": "ipython3",
   "version": "3.7.1"
  }
 },
 "nbformat": 4,
 "nbformat_minor": 2
}
