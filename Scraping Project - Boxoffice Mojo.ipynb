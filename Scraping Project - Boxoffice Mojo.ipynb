{
 "cells": [
  {
   "cell_type": "code",
   "execution_count": 1339,
   "metadata": {},
   "outputs": [],
   "source": [
    "import pandas as pd\n",
    "import numpy as np\n",
    "import re\n",
    "import requests \n",
    "import bs4 \n",
    "\n",
    "from bs4 import BeautifulSoup\n",
    "from user_agent import generate_user_agent\n",
    "\n",
    "headers = {'User-Agent': generate_user_agent(device_type=\"desktop\", os=('mac'))} "
   ]
  },
  {
   "cell_type": "code",
   "execution_count": 1064,
   "metadata": {},
   "outputs": [],
   "source": [
    "movie_years = [str(year) for year in range(1997, 2018)]\n",
    "movie_links = []\n",
    "\n",
    "for year in movie_years:\n",
    "    r = requests.get('https://www.boxofficemojo.com/yearly/chart/?view2=worldwide&yr=%s&p=.htm' %year, headers=headers)\n",
    "    r_text = BeautifulSoup(r.text, 'html.parser')\n",
    "    a_tags = r_text.find_all('a')\n",
    "    all_links_year = [link.get('href') for link in a_tags if link.get('href') is not None] # Getting hyperlinks\n",
    "    movie_links_year = [(\"https://www.boxofficemojo.com\" + movie) for movie in all_links_year if '/movies/?' in movie] # Filtering hyperlinks for ones which link to movies\n",
    "    movie_links_year = movie_links_year[1:] #First entry is usually incorrect\n",
    "    for link in movie_links_year:\n",
    "        movie_links.append(link)\n",
    "movie_links = [movie.replace(\"elizabeth\\xa0.htm\", \"elizabeth%A0.htm\") if \"elizabeth\\xa0.htm\" in movie else movie for movie in movie_links] #Quick solution to deal with a single annoying anomaly"
   ]
  },
  {
   "cell_type": "code",
   "execution_count": 1229,
   "metadata": {},
   "outputs": [],
   "source": [
    "# Function to scrape box office data from Boxoffice Mojo \n",
    "def scrape_boxoffice(movie_list):\n",
    "    movie_data = [] #Creating a list that will store more lists, one per movie\n",
    "    for link in movie_list:\n",
    "        indiv_movie = []\n",
    "        r_link = requests.get(link)\n",
    "        r_link_text = BeautifulSoup(r_link.text, 'html.parser')\n",
    "        table = r_link_text.find_all('table') #Information is contained in tables\n",
    "        try: \n",
    "            table_td = table[2].find_all('td')\n",
    "            for ii in table_td:\n",
    "                if ii.find('td') != None:\n",
    "                    indiv_movie.append(ii.find('td').contents[0])\n",
    "                if ii.find('b')!= None:\n",
    "                    indiv_movie.append(ii.find('b').contents[0])\n",
    "                if ii.find('font') != None:\n",
    "                    indiv_movie.append(ii.find('font').contents[0])\n",
    "                if ii.find('th') != None:\n",
    "                    indiv_movie.append(ii.find('tr').contents[0])\n",
    "            clean_title = indiv_movie[2].text.replace(':', \" \") # Removing :, (, and ) from the movie titles. Will use grep in the future\n",
    "            clean_title = clean_title.replace(\"(\", \"\")\n",
    "            clean_title = clean_title.replace(\")\", \"\")\n",
    "            information_list = [clean_title]\n",
    "            try:\n",
    "                for ii in [9, 13, 16]: # 9, 13 and 16 are indexes for Domestic Gross, Genre and Production Budget\n",
    "                    information_list.append(str(indiv_movie[ii])) #Convert NavigableStrings to string\n",
    "                information_list.append(indiv_movie[12].text) # Release date\n",
    "            except IndexError: \n",
    "                pass\n",
    "            movie_data.append(information_list)\n",
    "        except IndexError:\n",
    "            pass\n",
    "\n",
    "    db = pd.DataFrame(movie_data, columns = ['Title', 'Domestic Gross', 'Genre',  'Budget', 'Release Date']) #Dataframe from list of lists\n",
    "    return(db)\n",
    "    \n",
    "movie_data_df = scrape_boxoffice(movie_links)"
   ]
  },
  {
   "cell_type": "code",
   "execution_count": 1374,
   "metadata": {},
   "outputs": [
    {
     "data": {
      "text/plain": [
       "'awesome%3B+i+fuckin+shot+that'"
      ]
     },
     "execution_count": 1374,
     "metadata": {},
     "output_type": "execute_result"
    }
   ],
   "source": [
    "titles = [] \n",
    "for ii in movie_data_df['Title']:\n",
    "    titles.append(ii.replace(\" \", \"+\"))#Removing spaces in order to generate valid urls for OMDB database\n",
    "titles[2430] = 'awesome%3B+i+fuckin+shot+that' #Fixing a tricky formatting issue directly"
   ]
  },
  {
   "cell_type": "code",
   "execution_count": 1436,
   "metadata": {},
   "outputs": [],
   "source": [
    "# Requesting OMDB data via API; broken into parts\n",
    "omdb_json_list=[]\n",
    "for title in titles: \n",
    "    r_omdb = requests.get(\"http://www.omdbapi.com/?apikey=d295246e&t=%s\" %title) \n",
    "    if len(r_omdb.json()) > 3: # To ignore missing movies\n",
    "        omdb_json_list.append(r_omdb.json())  #Each JSON contains information; append them \n",
    "    else: \n",
    "        pass"
   ]
  },
  {
   "cell_type": "code",
   "execution_count": 1442,
   "metadata": {},
   "outputs": [],
   "source": [
    "# Extracting data from OMDB movies\n",
    "omdb_movie_list = [] \n",
    "for movie in omdb_json_list: \n",
    "    try:\n",
    "        dataframe_variables = [movie['Title'], movie['Year'], movie['Rated'], movie['Runtime'], movie['Metascore'], movie['imdbRating'], movie['Ratings'][1]['Value']] \n",
    "        omdb_movie_list.append(dataframe_variables) \n",
    "    except: pass #Some movies not found"
   ]
  },
  {
   "cell_type": "code",
   "execution_count": 1506,
   "metadata": {},
   "outputs": [],
   "source": [
    "# Joining Data  \n",
    "omdb_movie_data = pd.DataFrame(omdb_movie_list, columns = ['Title', 'Year', 'Rating', 'Runtime', 'Metascore', 'IMDB score', 'RT score'])\n",
    "omdb_movie_data['Title'] = omdb_movie_data['Title'].str.replace(\":\",\"\") # Cleaning title column to allow for merge\n",
    "merged = movie_data_df.merge(omdb_movie_data, left_on=\"Title\", right_on=\"Title\", how=\"outer\") # Outer join to ensure that all data is present"
   ]
  },
  {
   "cell_type": "code",
   "execution_count": 1536,
   "metadata": {},
   "outputs": [],
   "source": [
    "# Cleaning\n",
    "merged = merged.replace('N/A', np.nan) # Convert N/A to NaN\n",
    "merged = merged.replace([None], np.nan, regex=True) # Replace None values with Nan to allow operations or iteration"
   ]
  },
  {
   "cell_type": "code",
   "execution_count": 1549,
   "metadata": {},
   "outputs": [],
   "source": [
    "raw_boxoffice_df = merged.copy()\n",
    "raw_boxoffice_df['Domestic Gross'] = raw_boxoffice_df['Domestic Gross'].str.extract('(\\d+)').astype(float) #Str to Float\n",
    "raw_boxoffice_df['Budget'] = raw_boxoffice_df['Budget'].str.extract('(\\d+)').astype(float) # Keep digits from str, save as float\n",
    "raw_boxoffice_df['Release Date'] = raw_boxoffice_df['Release Date'].astype(str) # Convert to str\n",
    "raw_boxoffice_df['Runtime'] = raw_boxoffice_df['Runtime'].str.replace(\" min\", \"\").astype(float) # Convert minutes to float\n",
    "raw_boxoffice_df['Metascore'] = raw_boxoffice_df['Metascore'].astype(float) # Convert to type float\n",
    "raw_boxoffice_df['RT score'] = raw_boxoffice_df['RT score'].str.replace(\"%\", \"\").str.replace(\"/100\", \"\").astype(float)\n",
    "raw_boxoffice_df.columns = ['Title', 'Domestic Gross (millions)', 'Genre', 'Budget (millions)', 'Release Date', 'Year', 'Rating', 'Runtime', 'Metascore', 'IMDB score', 'RT score']\n",
    "\n",
    "# New Columns\n",
    "raw_boxoffice_df['Release Month'] = raw_boxoffice_df['Release Date'].str.split().map(lambda x: x[0]) #Establishing month of release\n",
    "raw_boxoffice_df['Domestic ROI Multiplier'] = raw_boxoffice_df['Domestic Gross (millions)'].fillna(0)/raw_boxoffice_df['Budget (millions)'].fillna(0) #Diving the two columns to get multiplier; fillna to prevent NaN errors\n",
    "raw_boxoffice_df['Domestic ROI Multiplier'] = raw_boxoffice_df['Domestic ROI Multiplier'].replace([np.inf], np.nan) #repliace Inf values with Nan "
   ]
  },
  {
   "cell_type": "code",
   "execution_count": 1554,
   "metadata": {},
   "outputs": [
    {
     "data": {
      "text/plain": [
       "Index(['Title', 'Domestic Gross (millions)', 'Genre', 'Budget (millions)',\n",
       "       'Release Date', 'Year', 'Rating', 'Runtime', 'Metascore', 'IMDB score',\n",
       "       'RT score', 'Release Month', 'Domestic ROI Multiplier'],\n",
       "      dtype='object')"
      ]
     },
     "execution_count": 1554,
     "metadata": {},
     "output_type": "execute_result"
    }
   ],
   "source": [
    "raw_boxoffice_df.columns"
   ]
  },
  {
   "cell_type": "code",
   "execution_count": 1551,
   "metadata": {},
   "outputs": [],
   "source": [
    "# Write data to local csv\n",
    "raw_boxoffice_df.to_csv('/Users/benisonp/Documents/Data Science/raw_boxoffice_df.csv')"
   ]
  }
 ],
 "metadata": {
  "kernelspec": {
   "display_name": "Python 3",
   "language": "python",
   "name": "python3"
  },
  "language_info": {
   "codemirror_mode": {
    "name": "ipython",
    "version": 3
   },
   "file_extension": ".py",
   "mimetype": "text/x-python",
   "name": "python",
   "nbconvert_exporter": "python",
   "pygments_lexer": "ipython3",
   "version": "3.7.1"
  }
 },
 "nbformat": 4,
 "nbformat_minor": 2
}
