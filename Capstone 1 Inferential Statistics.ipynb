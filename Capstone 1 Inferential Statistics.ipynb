{
 "cells": [
  {
   "cell_type": "markdown",
   "metadata": {},
   "source": [
    "In this notebook, I will analyze the box office data using inferential statistics, answering some questions raised \n",
    "previously when performing exploratory data analysis. "
   ]
  },
  {
   "cell_type": "code",
   "execution_count": 36,
   "metadata": {},
   "outputs": [],
   "source": [
    "import pandas as pd\n",
    "import numpy as np\n",
    "import matplotlib.pyplot as plt\n",
    "import seaborn as sns\n",
    "import scipy.stats as stats\n",
    "import random\n",
    "\n",
    "from scipy.stats import shapiro\n",
    "from scipy.stats import normaltest\n",
    "from scipy.stats import pearsonr\n",
    "from statsmodels.stats.weightstats import ztest\n",
    "from statsmodels.graphics.gofplots import qqplot"
   ]
  },
  {
   "cell_type": "markdown",
   "metadata": {},
   "source": [
    "Because this dataset has multiple genres per movie, some manipulation is required in order to have a more accurate \n",
    "count of the number of genres present in the dataset, as well as to allow us to limit our analysis to the most \n",
    "popular genres (for the purposes of simplicity.)"
   ]
  },
  {
   "cell_type": "code",
   "execution_count": 91,
   "metadata": {},
   "outputs": [
    {
     "data": {
      "text/html": [
       "<div>\n",
       "<style scoped>\n",
       "    .dataframe tbody tr th:only-of-type {\n",
       "        vertical-align: middle;\n",
       "    }\n",
       "\n",
       "    .dataframe tbody tr th {\n",
       "        vertical-align: top;\n",
       "    }\n",
       "\n",
       "    .dataframe thead th {\n",
       "        text-align: right;\n",
       "    }\n",
       "</style>\n",
       "<table border=\"1\" class=\"dataframe\">\n",
       "  <thead>\n",
       "    <tr style=\"text-align: right;\">\n",
       "      <th></th>\n",
       "      <th>Title</th>\n",
       "      <th>Domestic Gross (millions)</th>\n",
       "      <th>Budget (millions)</th>\n",
       "      <th>Release Date</th>\n",
       "      <th>Year</th>\n",
       "      <th>Rating</th>\n",
       "      <th>Runtime</th>\n",
       "      <th>Metascore</th>\n",
       "      <th>IMDB score</th>\n",
       "      <th>RT score</th>\n",
       "      <th>Release Month</th>\n",
       "      <th>Domestic ROI Multiplier</th>\n",
       "      <th>Profit (millions)</th>\n",
       "      <th>Genre</th>\n",
       "    </tr>\n",
       "  </thead>\n",
       "  <tbody>\n",
       "    <tr>\n",
       "      <th>2</th>\n",
       "      <td>Tomorrow Never Dies</td>\n",
       "      <td>125.304276</td>\n",
       "      <td>NaN</td>\n",
       "      <td>19-Dec-97</td>\n",
       "      <td>1997</td>\n",
       "      <td>PG-13</td>\n",
       "      <td>119.0</td>\n",
       "      <td>52.0</td>\n",
       "      <td>6.5</td>\n",
       "      <td>58.0</td>\n",
       "      <td>December</td>\n",
       "      <td>NaN</td>\n",
       "      <td>NaN</td>\n",
       "      <td>Action</td>\n",
       "    </tr>\n",
       "    <tr>\n",
       "      <th>3</th>\n",
       "      <td>Air Force One</td>\n",
       "      <td>172.956409</td>\n",
       "      <td>85.0</td>\n",
       "      <td>25-Jul-97</td>\n",
       "      <td>1997</td>\n",
       "      <td>R</td>\n",
       "      <td>124.0</td>\n",
       "      <td>61.0</td>\n",
       "      <td>6.5</td>\n",
       "      <td>76.0</td>\n",
       "      <td>July</td>\n",
       "      <td>2.034781</td>\n",
       "      <td>87.956409</td>\n",
       "      <td>Action</td>\n",
       "    </tr>\n",
       "    <tr>\n",
       "      <th>8</th>\n",
       "      <td>The Full Monty</td>\n",
       "      <td>45.950122</td>\n",
       "      <td>3.5</td>\n",
       "      <td>15-Aug-97</td>\n",
       "      <td>1997</td>\n",
       "      <td>R</td>\n",
       "      <td>91.0</td>\n",
       "      <td>75.0</td>\n",
       "      <td>7.2</td>\n",
       "      <td>96.0</td>\n",
       "      <td>August</td>\n",
       "      <td>13.128606</td>\n",
       "      <td>42.450122</td>\n",
       "      <td>Comedy</td>\n",
       "    </tr>\n",
       "    <tr>\n",
       "      <th>9</th>\n",
       "      <td>Bean</td>\n",
       "      <td>45.319423</td>\n",
       "      <td>18.0</td>\n",
       "      <td>17-Oct-97</td>\n",
       "      <td>1997</td>\n",
       "      <td>PG-13</td>\n",
       "      <td>89.0</td>\n",
       "      <td>52.0</td>\n",
       "      <td>6.4</td>\n",
       "      <td>41.0</td>\n",
       "      <td>October</td>\n",
       "      <td>2.517746</td>\n",
       "      <td>27.319423</td>\n",
       "      <td>Comedy</td>\n",
       "    </tr>\n",
       "    <tr>\n",
       "      <th>10</th>\n",
       "      <td>Face/Off</td>\n",
       "      <td>112.276146</td>\n",
       "      <td>80.0</td>\n",
       "      <td>27-Jun-97</td>\n",
       "      <td>1997</td>\n",
       "      <td>R</td>\n",
       "      <td>138.0</td>\n",
       "      <td>82.0</td>\n",
       "      <td>7.3</td>\n",
       "      <td>92.0</td>\n",
       "      <td>June</td>\n",
       "      <td>1.403452</td>\n",
       "      <td>32.276146</td>\n",
       "      <td>Action</td>\n",
       "    </tr>\n",
       "  </tbody>\n",
       "</table>\n",
       "</div>"
      ],
      "text/plain": [
       "                  Title  Domestic Gross (millions)  Budget (millions)  \\\n",
       "2   Tomorrow Never Dies                 125.304276                NaN   \n",
       "3         Air Force One                 172.956409               85.0   \n",
       "8        The Full Monty                  45.950122                3.5   \n",
       "9                  Bean                  45.319423               18.0   \n",
       "10             Face/Off                 112.276146               80.0   \n",
       "\n",
       "   Release Date  Year Rating  Runtime  Metascore  IMDB score  RT score  \\\n",
       "2     19-Dec-97  1997  PG-13    119.0       52.0         6.5      58.0   \n",
       "3     25-Jul-97  1997      R    124.0       61.0         6.5      76.0   \n",
       "8     15-Aug-97  1997      R     91.0       75.0         7.2      96.0   \n",
       "9     17-Oct-97  1997  PG-13     89.0       52.0         6.4      41.0   \n",
       "10    27-Jun-97  1997      R    138.0       82.0         7.3      92.0   \n",
       "\n",
       "   Release Month  Domestic ROI Multiplier  Profit (millions)   Genre  \n",
       "2       December                      NaN                NaN  Action  \n",
       "3           July                 2.034781          87.956409  Action  \n",
       "8         August                13.128606          42.450122  Comedy  \n",
       "9        October                 2.517746          27.319423  Comedy  \n",
       "10          June                 1.403452          32.276146  Action  "
      ]
     },
     "execution_count": 91,
     "metadata": {},
     "output_type": "execute_result"
    }
   ],
   "source": [
    "# Import scraped data\n",
    "df = pd.read_csv('domestic_boxoffice.csv', encoding='latin-1')  \n",
    "\n",
    "# Trimming datbase to only contain known genres\n",
    "known_genres = df[df['Genre'].str.contains('Unknown') == False].reset_index(drop=True)\n",
    "genre_count = known_genres.groupby(by='Genre').size()\n",
    "genre_count = genre_count.reset_index(level=[0])\n",
    "genre_count.columns = ['Genre', 'Count']\n",
    "\n",
    "# Dataset to visualize counts of each movie genre\n",
    "cleaned = known_genres.set_index('Title').Genre.str.split(' ', expand=True).stack()\n",
    "genre_one_hot_df = pd.get_dummies(cleaned).groupby(level=0).sum() #One hot encoding the genres\n",
    "long_df = pd.melt(genre_one_hot_df, var_name = 'Category', value_name = 'Count')\n",
    "long_df_groupby = long_df.groupby(by='Category').sum()  \n",
    "\n",
    "# Creating data to visualize raw counts by category\n",
    "genre_count_data = long_df_groupby.reset_index()   \n",
    "\n",
    "# List of top 5 genres by count\n",
    "top_5_list = list(genre_count_data.sort_values(by='Count', ascending=False).reset_index(drop=True)['Category'][0:5])\n",
    "top_5_genres = known_genres.copy()\n",
    "top_5_genres_split = top_5_genres['Genre'].str.split(' ', expand=True)\n",
    "top_5_genres['Genre 1'] = top_5_genres_split[0]\n",
    "top_5_genres['Genre 2'] = top_5_genres_split[1] \n",
    "\n",
    "#Creating a database containing only movies from the top 5 genres; rows are repeated if multiple genres are present\n",
    "top_5_df = top_5_genres[top_5_genres['Genre 1'].isin(top_5_list) | top_5_genres['Genre 2'].isin(top_5_list)]\n",
    "\n",
    "top_5_genre1 = top_5_df.drop(['Genre', 'Genre 2'], axis=1) #Keep only Genre 2\n",
    "top_5_genre1.columns = ['Genre' if col == 'Genre 1' else col for col in top_5_genre1.columns] #Rename 'Genre 1' to 'Genre'\n",
    "top_5_genre2 = top_5_df.drop(['Genre', 'Genre 1'], axis=1) # Keep only Genre 1\n",
    "top_5_genre2.columns = ['Genre' if col == 'Genre 2' else col for col in top_5_genre2.columns]\n",
    "top_5_genres = pd.concat([top_5_genre1, top_5_genre2], sort=False).reset_index(drop=True) #Stack the dataframes\n",
    "top_5_genres['Genre'].astype(str)\n",
    "top_5_genres_df = top_5_genres[top_5_genres['Genre'].isin(top_5_list)] # Keep only top 5 genres \n",
    "\n",
    "top_5_genres_df.head()"
   ]
  },
  {
   "cell_type": "markdown",
   "metadata": {},
   "source": [
    "We are primarily interested in understanding what variables contribute to a movie's profitability. To that end, I \n",
    "will be using the Domestic ROI Multiplier (DRM) as the dependent variable, which we use to define what constitutes a \n",
    "profitable movie. The DRM is simply defined as the movie's absolute gross divided by its budget; as such, a DRM value \n",
    "of 1 is a break-even point; any movie with a DRM > 1 is profitable, and any movie with a DRM < 1 is unprofitable. "
   ]
  },
  {
   "cell_type": "markdown",
   "metadata": {},
   "source": [
    "# Which variables are significantly correlated with a movie's profitability?"
   ]
  },
  {
   "cell_type": "markdown",
   "metadata": {},
   "source": [
    "To answer this question, we will make use of the following metrics: a movie's budget, its absolute revenue, its \n",
    "    runtime, and critic ratings such as Metascore and Rotten Tomatoes score, as well as audience scores. The correlation\n",
    "    between these metrics and the Domestic ROI Multiplier can be assessed using a Pearson test to see if any of these \n",
    "    show a significant correlation to the performance of a movie, with an confidence level of α = 0.05. Note: As this \n",
    "    involves performing multiple tests on the same dataset, a Bonferroni correction will need to be applied to the\n",
    "    p-value threshold to account for the possibility of Type 1 error (false positives), altering our target p-value\n",
    "    to a more stringent level.\n",
    "\n",
    "The null hypothesis here is simply that there is no correlation between the variable and the performance metric, which\n",
    "we fail to reject if we have a p-value higher than our target. \n",
    "\n",
    "In order to have a more robust analysis, we will perform a permutation test, which randomly rearranges the data for \n",
    "each of the metrics, and recalculate the correlation. The permuted p-value is then calculated by determining how many\n",
    "of these permuted correlations are actually larger than the observed correlation."
   ]
  },
  {
   "cell_type": "code",
   "execution_count": 103,
   "metadata": {},
   "outputs": [],
   "source": [
    "def corr_permutation(metric_list, df):\n",
    "    corr_df = pd.DataFrame(index=predictor_metrics, columns=['Correlation', 'Observed_pval', 'Permuted_pval'])\n",
    "\n",
    "    for metric in predictor_metrics:\n",
    "        testx = np.isnan(df[metric])\n",
    "        testy = np.isnan(df['Domestic ROI Multiplier'])\n",
    "        test = ~np.logical_or(testx, testy) #Finds rows where x and y evaluate to True i.e. no NaNs\n",
    "        #Coerce a correlation test for rows where variables are not NaN\n",
    "        corr_obs, pval_obs = pearsonr(np.compress(test, df[metric]), np.compress(test, df['Domestic ROI Multiplier'])) \n",
    "\n",
    "        # Initialize permutation replicates: perm_replicates\n",
    "        perm_replicates = np.empty(10000)\n",
    "\n",
    "        # Draw replicates\n",
    "        for i in range(10000):\n",
    "            # Permute metric measurements\n",
    "            var_permuted = np.random.permutation(np.compress(test, df[metric]))\n",
    "\n",
    "            # Compute Pearson correlation of the metric with Domestic ROI Multiplier\n",
    "            perm_replicates[i] = pearsonr(var_permuted, np.compress(test, df['Domestic ROI Multiplier']))[0]\n",
    "\n",
    "        # Compute p-value: p\n",
    "        pval_permuted = np.sum(perm_replicates>=corr_obs)/len(perm_replicates)\n",
    "\n",
    "        # Save to dataframe\n",
    "        corr_df.loc[metric, 'Correlation'] = corr_obs\n",
    "        corr_df.loc[metric, 'Observed_pval'] = pval_obs\n",
    "        corr_df.loc[metric, 'Permuted_pval'] = pval_permuted\n",
    "\n",
    "    corr_df['Significant'] = np.where(corr_df['Permuted_pval']<=0.05/len(predictor_metrics), \n",
    "                                      'yes', 'no') # See which correlations are significant after Bonferroni correction\n",
    "    return(corr_df)"
   ]
  },
  {
   "cell_type": "code",
   "execution_count": 104,
   "metadata": {},
   "outputs": [
    {
     "data": {
      "text/html": [
       "<div>\n",
       "<style scoped>\n",
       "    .dataframe tbody tr th:only-of-type {\n",
       "        vertical-align: middle;\n",
       "    }\n",
       "\n",
       "    .dataframe tbody tr th {\n",
       "        vertical-align: top;\n",
       "    }\n",
       "\n",
       "    .dataframe thead th {\n",
       "        text-align: right;\n",
       "    }\n",
       "</style>\n",
       "<table border=\"1\" class=\"dataframe\">\n",
       "  <thead>\n",
       "    <tr style=\"text-align: right;\">\n",
       "      <th></th>\n",
       "      <th>Correlation</th>\n",
       "      <th>Observed_pval</th>\n",
       "      <th>Permuted_pval</th>\n",
       "      <th>Significant</th>\n",
       "    </tr>\n",
       "  </thead>\n",
       "  <tbody>\n",
       "    <tr>\n",
       "      <th>Budget (millions)</th>\n",
       "      <td>-0.0386211</td>\n",
       "      <td>0.0558048</td>\n",
       "      <td>1</td>\n",
       "      <td>no</td>\n",
       "    </tr>\n",
       "    <tr>\n",
       "      <th>Domestic Gross (millions)</th>\n",
       "      <td>0.0109657</td>\n",
       "      <td>0.587234</td>\n",
       "      <td>0.2021</td>\n",
       "      <td>no</td>\n",
       "    </tr>\n",
       "    <tr>\n",
       "      <th>Runtime</th>\n",
       "      <td>-0.0439689</td>\n",
       "      <td>0.0408363</td>\n",
       "      <td>0.9966</td>\n",
       "      <td>no</td>\n",
       "    </tr>\n",
       "    <tr>\n",
       "      <th>Metascore</th>\n",
       "      <td>0.0430278</td>\n",
       "      <td>0.0464118</td>\n",
       "      <td>0.0209</td>\n",
       "      <td>no</td>\n",
       "    </tr>\n",
       "    <tr>\n",
       "      <th>IMDB score</th>\n",
       "      <td>0.00482542</td>\n",
       "      <td>0.822489</td>\n",
       "      <td>0.4348</td>\n",
       "      <td>no</td>\n",
       "    </tr>\n",
       "    <tr>\n",
       "      <th>RT score</th>\n",
       "      <td>0.0443767</td>\n",
       "      <td>0.0390011</td>\n",
       "      <td>0.0076</td>\n",
       "      <td>yes</td>\n",
       "    </tr>\n",
       "  </tbody>\n",
       "</table>\n",
       "</div>"
      ],
      "text/plain": [
       "                          Correlation Observed_pval Permuted_pval Significant\n",
       "Budget (millions)          -0.0386211     0.0558048             1          no\n",
       "Domestic Gross (millions)   0.0109657      0.587234        0.2021          no\n",
       "Runtime                    -0.0439689     0.0408363        0.9966          no\n",
       "Metascore                   0.0430278     0.0464118        0.0209          no\n",
       "IMDB score                 0.00482542      0.822489        0.4348          no\n",
       "RT score                    0.0443767     0.0390011        0.0076         yes"
      ]
     },
     "execution_count": 104,
     "metadata": {},
     "output_type": "execute_result"
    }
   ],
   "source": [
    "predictor_metrics = ['Budget (millions)', 'Domestic Gross (millions)', 'Runtime', 'Metascore', \n",
    "                     'IMDB score', 'RT score']\n",
    "corr_permutation(predictor_metrics, df)"
   ]
  },
  {
   "cell_type": "markdown",
   "metadata": {},
   "source": [
    "As we can see, most of the metrics do not appear to correlate significantly with the movie's performance, except for\n",
    "its Rotten Tomatoes score! However, it is important to note that if we look at the actual correlation coefficient, \n",
    "that it is actually still an extremely weak correlation. It might be statistically significant, but as far as being\n",
    "informative, we should be cautious about ascribing too much importance to this metric. "
   ]
  },
  {
   "cell_type": "markdown",
   "metadata": {},
   "source": [
    "# Do Different Genres Behave Differently? "
   ]
  },
  {
   "cell_type": "markdown",
   "metadata": {},
   "source": [
    "As a reminder, here are the top 5 most popular movie genres, by how many movies appear in those genres. "
   ]
  },
  {
   "cell_type": "code",
   "execution_count": 99,
   "metadata": {},
   "outputs": [
    {
     "data": {
      "text/html": [
       "<div>\n",
       "<style scoped>\n",
       "    .dataframe tbody tr th:only-of-type {\n",
       "        vertical-align: middle;\n",
       "    }\n",
       "\n",
       "    .dataframe tbody tr th {\n",
       "        vertical-align: top;\n",
       "    }\n",
       "\n",
       "    .dataframe thead th {\n",
       "        text-align: right;\n",
       "    }\n",
       "</style>\n",
       "<table border=\"1\" class=\"dataframe\">\n",
       "  <thead>\n",
       "    <tr style=\"text-align: right;\">\n",
       "      <th></th>\n",
       "      <th>Category</th>\n",
       "      <th>Count</th>\n",
       "    </tr>\n",
       "  </thead>\n",
       "  <tbody>\n",
       "    <tr>\n",
       "      <th>0</th>\n",
       "      <td>Drama</td>\n",
       "      <td>1648.0</td>\n",
       "    </tr>\n",
       "    <tr>\n",
       "      <th>1</th>\n",
       "      <td>Comedy</td>\n",
       "      <td>1498.0</td>\n",
       "    </tr>\n",
       "    <tr>\n",
       "      <th>2</th>\n",
       "      <td>Action</td>\n",
       "      <td>600.0</td>\n",
       "    </tr>\n",
       "    <tr>\n",
       "      <th>3</th>\n",
       "      <td>Thriller</td>\n",
       "      <td>600.0</td>\n",
       "    </tr>\n",
       "    <tr>\n",
       "      <th>4</th>\n",
       "      <td>Horror</td>\n",
       "      <td>400.0</td>\n",
       "    </tr>\n",
       "  </tbody>\n",
       "</table>\n",
       "</div>"
      ],
      "text/plain": [
       "   Category   Count\n",
       "0     Drama  1648.0\n",
       "1    Comedy  1498.0\n",
       "2    Action   600.0\n",
       "3  Thriller   600.0\n",
       "4    Horror   400.0"
      ]
     },
     "execution_count": 99,
     "metadata": {},
     "output_type": "execute_result"
    }
   ],
   "source": [
    "genre_count_data.sort_values('Count', ascending=False).reset_index(drop=True).head()"
   ]
  },
  {
   "cell_type": "markdown",
   "metadata": {},
   "source": [
    "### Drama"
   ]
  },
  {
   "cell_type": "code",
   "execution_count": 106,
   "metadata": {},
   "outputs": [
    {
     "data": {
      "text/html": [
       "<div>\n",
       "<style scoped>\n",
       "    .dataframe tbody tr th:only-of-type {\n",
       "        vertical-align: middle;\n",
       "    }\n",
       "\n",
       "    .dataframe tbody tr th {\n",
       "        vertical-align: top;\n",
       "    }\n",
       "\n",
       "    .dataframe thead th {\n",
       "        text-align: right;\n",
       "    }\n",
       "</style>\n",
       "<table border=\"1\" class=\"dataframe\">\n",
       "  <thead>\n",
       "    <tr style=\"text-align: right;\">\n",
       "      <th></th>\n",
       "      <th>Correlation</th>\n",
       "      <th>Observed_pval</th>\n",
       "      <th>Permuted_pval</th>\n",
       "      <th>Significant</th>\n",
       "    </tr>\n",
       "  </thead>\n",
       "  <tbody>\n",
       "    <tr>\n",
       "      <th>Budget (millions)</th>\n",
       "      <td>-0.170857</td>\n",
       "      <td>4.82184e-05</td>\n",
       "      <td>1</td>\n",
       "      <td>no</td>\n",
       "    </tr>\n",
       "    <tr>\n",
       "      <th>Domestic Gross (millions)</th>\n",
       "      <td>0.133362</td>\n",
       "      <td>0.00156144</td>\n",
       "      <td>0.0114</td>\n",
       "      <td>no</td>\n",
       "    </tr>\n",
       "    <tr>\n",
       "      <th>Runtime</th>\n",
       "      <td>-0.0596901</td>\n",
       "      <td>0.175794</td>\n",
       "      <td>0.9267</td>\n",
       "      <td>no</td>\n",
       "    </tr>\n",
       "    <tr>\n",
       "      <th>Metascore</th>\n",
       "      <td>-0.00100493</td>\n",
       "      <td>0.981903</td>\n",
       "      <td>0.5085</td>\n",
       "      <td>no</td>\n",
       "    </tr>\n",
       "    <tr>\n",
       "      <th>IMDB score</th>\n",
       "      <td>0.0706407</td>\n",
       "      <td>0.108988</td>\n",
       "      <td>0.041</td>\n",
       "      <td>no</td>\n",
       "    </tr>\n",
       "    <tr>\n",
       "      <th>RT score</th>\n",
       "      <td>0.0158752</td>\n",
       "      <td>0.719023</td>\n",
       "      <td>0.3778</td>\n",
       "      <td>no</td>\n",
       "    </tr>\n",
       "  </tbody>\n",
       "</table>\n",
       "</div>"
      ],
      "text/plain": [
       "                          Correlation Observed_pval Permuted_pval Significant\n",
       "Budget (millions)           -0.170857   4.82184e-05             1          no\n",
       "Domestic Gross (millions)    0.133362    0.00156144        0.0114          no\n",
       "Runtime                    -0.0596901      0.175794        0.9267          no\n",
       "Metascore                 -0.00100493      0.981903        0.5085          no\n",
       "IMDB score                  0.0706407      0.108988         0.041          no\n",
       "RT score                    0.0158752      0.719023        0.3778          no"
      ]
     },
     "execution_count": 106,
     "metadata": {},
     "output_type": "execute_result"
    }
   ],
   "source": [
    "drama_df = top_5_genres_df[top_5_genres_df['Genre']=='Drama']\n",
    "corr_permutation(predictor_metrics, drama_df)"
   ]
  },
  {
   "cell_type": "markdown",
   "metadata": {},
   "source": [
    "### Comedy"
   ]
  },
  {
   "cell_type": "code",
   "execution_count": 107,
   "metadata": {},
   "outputs": [
    {
     "data": {
      "text/html": [
       "<div>\n",
       "<style scoped>\n",
       "    .dataframe tbody tr th:only-of-type {\n",
       "        vertical-align: middle;\n",
       "    }\n",
       "\n",
       "    .dataframe tbody tr th {\n",
       "        vertical-align: top;\n",
       "    }\n",
       "\n",
       "    .dataframe thead th {\n",
       "        text-align: right;\n",
       "    }\n",
       "</style>\n",
       "<table border=\"1\" class=\"dataframe\">\n",
       "  <thead>\n",
       "    <tr style=\"text-align: right;\">\n",
       "      <th></th>\n",
       "      <th>Correlation</th>\n",
       "      <th>Observed_pval</th>\n",
       "      <th>Permuted_pval</th>\n",
       "      <th>Significant</th>\n",
       "    </tr>\n",
       "  </thead>\n",
       "  <tbody>\n",
       "    <tr>\n",
       "      <th>Budget (millions)</th>\n",
       "      <td>-0.1444</td>\n",
       "      <td>6.83273e-05</td>\n",
       "      <td>1</td>\n",
       "      <td>no</td>\n",
       "    </tr>\n",
       "    <tr>\n",
       "      <th>Domestic Gross (millions)</th>\n",
       "      <td>0.104609</td>\n",
       "      <td>0.00400836</td>\n",
       "      <td>0.0119</td>\n",
       "      <td>no</td>\n",
       "    </tr>\n",
       "    <tr>\n",
       "      <th>Runtime</th>\n",
       "      <td>-0.0466913</td>\n",
       "      <td>0.226746</td>\n",
       "      <td>0.908</td>\n",
       "      <td>no</td>\n",
       "    </tr>\n",
       "    <tr>\n",
       "      <th>Metascore</th>\n",
       "      <td>0.103031</td>\n",
       "      <td>0.00788387</td>\n",
       "      <td>0.0045</td>\n",
       "      <td>yes</td>\n",
       "    </tr>\n",
       "    <tr>\n",
       "      <th>IMDB score</th>\n",
       "      <td>0.0995591</td>\n",
       "      <td>0.00980931</td>\n",
       "      <td>0.0013</td>\n",
       "      <td>yes</td>\n",
       "    </tr>\n",
       "    <tr>\n",
       "      <th>RT score</th>\n",
       "      <td>0.137766</td>\n",
       "      <td>0.000341303</td>\n",
       "      <td>0</td>\n",
       "      <td>yes</td>\n",
       "    </tr>\n",
       "  </tbody>\n",
       "</table>\n",
       "</div>"
      ],
      "text/plain": [
       "                          Correlation Observed_pval Permuted_pval Significant\n",
       "Budget (millions)             -0.1444   6.83273e-05             1          no\n",
       "Domestic Gross (millions)    0.104609    0.00400836        0.0119          no\n",
       "Runtime                    -0.0466913      0.226746         0.908          no\n",
       "Metascore                    0.103031    0.00788387        0.0045         yes\n",
       "IMDB score                  0.0995591    0.00980931        0.0013         yes\n",
       "RT score                     0.137766   0.000341303             0         yes"
      ]
     },
     "execution_count": 107,
     "metadata": {},
     "output_type": "execute_result"
    }
   ],
   "source": [
    "comedy_df = top_5_genres_df[top_5_genres_df['Genre']=='Comedy']\n",
    "corr_permutation(predictor_metrics, comedy_df)"
   ]
  },
  {
   "cell_type": "markdown",
   "metadata": {},
   "source": [
    "### Action"
   ]
  },
  {
   "cell_type": "code",
   "execution_count": 108,
   "metadata": {},
   "outputs": [
    {
     "data": {
      "text/html": [
       "<div>\n",
       "<style scoped>\n",
       "    .dataframe tbody tr th:only-of-type {\n",
       "        vertical-align: middle;\n",
       "    }\n",
       "\n",
       "    .dataframe tbody tr th {\n",
       "        vertical-align: top;\n",
       "    }\n",
       "\n",
       "    .dataframe thead th {\n",
       "        text-align: right;\n",
       "    }\n",
       "</style>\n",
       "<table border=\"1\" class=\"dataframe\">\n",
       "  <thead>\n",
       "    <tr style=\"text-align: right;\">\n",
       "      <th></th>\n",
       "      <th>Correlation</th>\n",
       "      <th>Observed_pval</th>\n",
       "      <th>Permuted_pval</th>\n",
       "      <th>Significant</th>\n",
       "    </tr>\n",
       "  </thead>\n",
       "  <tbody>\n",
       "    <tr>\n",
       "      <th>Budget (millions)</th>\n",
       "      <td>-0.0419819</td>\n",
       "      <td>0.395367</td>\n",
       "      <td>0.7962</td>\n",
       "      <td>no</td>\n",
       "    </tr>\n",
       "    <tr>\n",
       "      <th>Domestic Gross (millions)</th>\n",
       "      <td>0.507528</td>\n",
       "      <td>2.34111e-28</td>\n",
       "      <td>0</td>\n",
       "      <td>yes</td>\n",
       "    </tr>\n",
       "    <tr>\n",
       "      <th>Runtime</th>\n",
       "      <td>0.0285935</td>\n",
       "      <td>0.589204</td>\n",
       "      <td>0.2706</td>\n",
       "      <td>no</td>\n",
       "    </tr>\n",
       "    <tr>\n",
       "      <th>Metascore</th>\n",
       "      <td>0.371128</td>\n",
       "      <td>4.91335e-13</td>\n",
       "      <td>0</td>\n",
       "      <td>yes</td>\n",
       "    </tr>\n",
       "    <tr>\n",
       "      <th>IMDB score</th>\n",
       "      <td>0.406826</td>\n",
       "      <td>9.63683e-16</td>\n",
       "      <td>0</td>\n",
       "      <td>yes</td>\n",
       "    </tr>\n",
       "    <tr>\n",
       "      <th>RT score</th>\n",
       "      <td>0.375693</td>\n",
       "      <td>1.77043e-13</td>\n",
       "      <td>0</td>\n",
       "      <td>yes</td>\n",
       "    </tr>\n",
       "  </tbody>\n",
       "</table>\n",
       "</div>"
      ],
      "text/plain": [
       "                          Correlation Observed_pval Permuted_pval Significant\n",
       "Budget (millions)          -0.0419819      0.395367        0.7962          no\n",
       "Domestic Gross (millions)    0.507528   2.34111e-28             0         yes\n",
       "Runtime                     0.0285935      0.589204        0.2706          no\n",
       "Metascore                    0.371128   4.91335e-13             0         yes\n",
       "IMDB score                   0.406826   9.63683e-16             0         yes\n",
       "RT score                     0.375693   1.77043e-13             0         yes"
      ]
     },
     "execution_count": 108,
     "metadata": {},
     "output_type": "execute_result"
    }
   ],
   "source": [
    "action_df = top_5_genres_df[top_5_genres_df['Genre']=='Action']\n",
    "corr_permutation(predictor_metrics, action_df)"
   ]
  },
  {
   "cell_type": "markdown",
   "metadata": {},
   "source": [
    "### Thriller"
   ]
  },
  {
   "cell_type": "code",
   "execution_count": 110,
   "metadata": {},
   "outputs": [
    {
     "data": {
      "text/html": [
       "<div>\n",
       "<style scoped>\n",
       "    .dataframe tbody tr th:only-of-type {\n",
       "        vertical-align: middle;\n",
       "    }\n",
       "\n",
       "    .dataframe tbody tr th {\n",
       "        vertical-align: top;\n",
       "    }\n",
       "\n",
       "    .dataframe thead th {\n",
       "        text-align: right;\n",
       "    }\n",
       "</style>\n",
       "<table border=\"1\" class=\"dataframe\">\n",
       "  <thead>\n",
       "    <tr style=\"text-align: right;\">\n",
       "      <th></th>\n",
       "      <th>Correlation</th>\n",
       "      <th>Observed_pval</th>\n",
       "      <th>Permuted_pval</th>\n",
       "      <th>Significant</th>\n",
       "    </tr>\n",
       "  </thead>\n",
       "  <tbody>\n",
       "    <tr>\n",
       "      <th>Budget (millions)</th>\n",
       "      <td>-0.210111</td>\n",
       "      <td>0.000307176</td>\n",
       "      <td>1</td>\n",
       "      <td>no</td>\n",
       "    </tr>\n",
       "    <tr>\n",
       "      <th>Domestic Gross (millions)</th>\n",
       "      <td>0.255606</td>\n",
       "      <td>1.00957e-05</td>\n",
       "      <td>0.0034</td>\n",
       "      <td>yes</td>\n",
       "    </tr>\n",
       "    <tr>\n",
       "      <th>Runtime</th>\n",
       "      <td>-0.137236</td>\n",
       "      <td>0.02692</td>\n",
       "      <td>0.9988</td>\n",
       "      <td>no</td>\n",
       "    </tr>\n",
       "    <tr>\n",
       "      <th>Metascore</th>\n",
       "      <td>0.0656227</td>\n",
       "      <td>0.295583</td>\n",
       "      <td>0.1498</td>\n",
       "      <td>no</td>\n",
       "    </tr>\n",
       "    <tr>\n",
       "      <th>IMDB score</th>\n",
       "      <td>0.064134</td>\n",
       "      <td>0.302913</td>\n",
       "      <td>0.149</td>\n",
       "      <td>no</td>\n",
       "    </tr>\n",
       "    <tr>\n",
       "      <th>RT score</th>\n",
       "      <td>0.115813</td>\n",
       "      <td>0.0622227</td>\n",
       "      <td>0.0324</td>\n",
       "      <td>no</td>\n",
       "    </tr>\n",
       "  </tbody>\n",
       "</table>\n",
       "</div>"
      ],
      "text/plain": [
       "                          Correlation Observed_pval Permuted_pval Significant\n",
       "Budget (millions)           -0.210111   0.000307176             1          no\n",
       "Domestic Gross (millions)    0.255606   1.00957e-05        0.0034         yes\n",
       "Runtime                     -0.137236       0.02692        0.9988          no\n",
       "Metascore                   0.0656227      0.295583        0.1498          no\n",
       "IMDB score                   0.064134      0.302913         0.149          no\n",
       "RT score                     0.115813     0.0622227        0.0324          no"
      ]
     },
     "execution_count": 110,
     "metadata": {},
     "output_type": "execute_result"
    }
   ],
   "source": [
    "thriller_df = top_5_genres_df[top_5_genres_df['Genre']=='Thriller']\n",
    "corr_permutation(predictor_metrics, thriller_df)"
   ]
  },
  {
   "cell_type": "markdown",
   "metadata": {},
   "source": [
    "### Horror"
   ]
  },
  {
   "cell_type": "code",
   "execution_count": 111,
   "metadata": {},
   "outputs": [
    {
     "data": {
      "text/html": [
       "<div>\n",
       "<style scoped>\n",
       "    .dataframe tbody tr th:only-of-type {\n",
       "        vertical-align: middle;\n",
       "    }\n",
       "\n",
       "    .dataframe tbody tr th {\n",
       "        vertical-align: top;\n",
       "    }\n",
       "\n",
       "    .dataframe thead th {\n",
       "        text-align: right;\n",
       "    }\n",
       "</style>\n",
       "<table border=\"1\" class=\"dataframe\">\n",
       "  <thead>\n",
       "    <tr style=\"text-align: right;\">\n",
       "      <th></th>\n",
       "      <th>Correlation</th>\n",
       "      <th>Observed_pval</th>\n",
       "      <th>Permuted_pval</th>\n",
       "      <th>Significant</th>\n",
       "    </tr>\n",
       "  </thead>\n",
       "  <tbody>\n",
       "    <tr>\n",
       "      <th>Budget (millions)</th>\n",
       "      <td>-0.0866989</td>\n",
       "      <td>0.173513</td>\n",
       "      <td>1</td>\n",
       "      <td>no</td>\n",
       "    </tr>\n",
       "    <tr>\n",
       "      <th>Domestic Gross (millions)</th>\n",
       "      <td>0.109893</td>\n",
       "      <td>0.0841508</td>\n",
       "      <td>0.0545</td>\n",
       "      <td>no</td>\n",
       "    </tr>\n",
       "    <tr>\n",
       "      <th>Runtime</th>\n",
       "      <td>-0.0996805</td>\n",
       "      <td>0.148067</td>\n",
       "      <td>0.9813</td>\n",
       "      <td>no</td>\n",
       "    </tr>\n",
       "    <tr>\n",
       "      <th>Metascore</th>\n",
       "      <td>0.148131</td>\n",
       "      <td>0.0314899</td>\n",
       "      <td>0.0215</td>\n",
       "      <td>no</td>\n",
       "    </tr>\n",
       "    <tr>\n",
       "      <th>IMDB score</th>\n",
       "      <td>0.0465477</td>\n",
       "      <td>0.500245</td>\n",
       "      <td>0.2674</td>\n",
       "      <td>no</td>\n",
       "    </tr>\n",
       "    <tr>\n",
       "      <th>RT score</th>\n",
       "      <td>0.146913</td>\n",
       "      <td>0.0325126</td>\n",
       "      <td>0.0095</td>\n",
       "      <td>no</td>\n",
       "    </tr>\n",
       "  </tbody>\n",
       "</table>\n",
       "</div>"
      ],
      "text/plain": [
       "                          Correlation Observed_pval Permuted_pval Significant\n",
       "Budget (millions)          -0.0866989      0.173513             1          no\n",
       "Domestic Gross (millions)    0.109893     0.0841508        0.0545          no\n",
       "Runtime                    -0.0996805      0.148067        0.9813          no\n",
       "Metascore                    0.148131     0.0314899        0.0215          no\n",
       "IMDB score                  0.0465477      0.500245        0.2674          no\n",
       "RT score                     0.146913     0.0325126        0.0095          no"
      ]
     },
     "execution_count": 111,
     "metadata": {},
     "output_type": "execute_result"
    }
   ],
   "source": [
    "horror_df = top_5_genres_df[top_5_genres_df['Genre']=='Horror']\n",
    "corr_permutation(predictor_metrics, horror_df)"
   ]
  },
  {
   "cell_type": "markdown",
   "metadata": {},
   "source": [
    "We can see that which metrics correlate significantly with box office performance differs between genres. In some \n",
    "cases, like horror, no metric actually correlates significantly. In others, like comedy movies, we find that critic\n",
    "and audience feedback have significant correlations with box office performance. This tells us that there may be \n",
    "underlying differences in the patterns of box office performance for movies in different genres, which is not \n",
    "entirely surprising.\n",
    "\n",
    "It should be noted, however, that the correlation coefficients in all cases are all relatively small. Despite being\n",
    "statistically significant, caution needs to be exercised in situations when the strength of correlation is weak, \n",
    "as the conclusions drawn are ultimately also limited."
   ]
  },
  {
   "cell_type": "markdown",
   "metadata": {},
   "source": [
    "# Are some genres generally more profitable/perform better than others? "
   ]
  },
  {
   "cell_type": "markdown",
   "metadata": {},
   "source": [
    "One of the questions that was raised in data exploration was whether movies of different genres had a tendency to\n",
    "perform differently at the box office. \n",
    "\n",
    "There are two hypothesis that are worth testing to answer the broader question of how different genres tend to fare,\n",
    "centered around the use of two metrics: absolute profit, and the domestic multiplier (absolute gross revenue/budget).\n",
    "\n",
    "In both cases, the null hypothesis is the same: that there is no significant difference between genres. "
   ]
  },
  {
   "cell_type": "markdown",
   "metadata": {},
   "source": [
    "To start off, let us get a sense for how the difference currently looks. We will start at looking at mean performance\n",
    "in all genres."
   ]
  },
  {
   "cell_type": "code",
   "execution_count": 220,
   "metadata": {},
   "outputs": [
    {
     "data": {
      "text/html": [
       "<div>\n",
       "<style scoped>\n",
       "    .dataframe tbody tr th:only-of-type {\n",
       "        vertical-align: middle;\n",
       "    }\n",
       "\n",
       "    .dataframe tbody tr th {\n",
       "        vertical-align: top;\n",
       "    }\n",
       "\n",
       "    .dataframe thead th {\n",
       "        text-align: right;\n",
       "    }\n",
       "</style>\n",
       "<table border=\"1\" class=\"dataframe\">\n",
       "  <thead>\n",
       "    <tr style=\"text-align: right;\">\n",
       "      <th></th>\n",
       "      <th>Budget (millions)</th>\n",
       "      <th>Profit (millions)</th>\n",
       "      <th>Domestic ROI Multiplier</th>\n",
       "    </tr>\n",
       "    <tr>\n",
       "      <th>Genre</th>\n",
       "      <th></th>\n",
       "      <th></th>\n",
       "      <th></th>\n",
       "    </tr>\n",
       "  </thead>\n",
       "  <tbody>\n",
       "    <tr>\n",
       "      <th>Action</th>\n",
       "      <td>85.925947</td>\n",
       "      <td>16.605360</td>\n",
       "      <td>1.221737</td>\n",
       "    </tr>\n",
       "    <tr>\n",
       "      <th>Comedy</th>\n",
       "      <td>36.540955</td>\n",
       "      <td>16.737748</td>\n",
       "      <td>2.308632</td>\n",
       "    </tr>\n",
       "    <tr>\n",
       "      <th>Drama</th>\n",
       "      <td>31.157232</td>\n",
       "      <td>7.128032</td>\n",
       "      <td>2.245358</td>\n",
       "    </tr>\n",
       "    <tr>\n",
       "      <th>Horror</th>\n",
       "      <td>31.448286</td>\n",
       "      <td>19.203158</td>\n",
       "      <td>43.200605</td>\n",
       "    </tr>\n",
       "    <tr>\n",
       "      <th>Thriller</th>\n",
       "      <td>42.543299</td>\n",
       "      <td>4.753275</td>\n",
       "      <td>1.442908</td>\n",
       "    </tr>\n",
       "  </tbody>\n",
       "</table>\n",
       "</div>"
      ],
      "text/plain": [
       "          Budget (millions)  Profit (millions)  Domestic ROI Multiplier\n",
       "Genre                                                                  \n",
       "Action            85.925947          16.605360                 1.221737\n",
       "Comedy            36.540955          16.737748                 2.308632\n",
       "Drama             31.157232           7.128032                 2.245358\n",
       "Horror            31.448286          19.203158                43.200605\n",
       "Thriller          42.543299           4.753275                 1.442908"
      ]
     },
     "execution_count": 220,
     "metadata": {},
     "output_type": "execute_result"
    }
   ],
   "source": [
    "top_5_genres_df[['Genre', 'Budget (millions)', 'Profit (millions)', 'Domestic ROI Multiplier']].groupby(by='Genre').mean()"
   ]
  },
  {
   "cell_type": "markdown",
   "metadata": {},
   "source": [
    "A superficial takeaway might be that the movie industry appears to be a great investment, in that you can expect to \n",
    "make a profit in just about any genre! Also, Horror seems to be significantly more worthwhile as an investment than any\n",
    "other genre. \n",
    "\n",
    "However, as the data exploration showed, mean values might not be suitable considering the presence of outliers that\n",
    "skew the distribution, especially in the horror genre. Let's look at the median instead."
   ]
  },
  {
   "cell_type": "code",
   "execution_count": 221,
   "metadata": {},
   "outputs": [
    {
     "data": {
      "text/html": [
       "<div>\n",
       "<style scoped>\n",
       "    .dataframe tbody tr th:only-of-type {\n",
       "        vertical-align: middle;\n",
       "    }\n",
       "\n",
       "    .dataframe tbody tr th {\n",
       "        vertical-align: top;\n",
       "    }\n",
       "\n",
       "    .dataframe thead th {\n",
       "        text-align: right;\n",
       "    }\n",
       "</style>\n",
       "<table border=\"1\" class=\"dataframe\">\n",
       "  <thead>\n",
       "    <tr style=\"text-align: right;\">\n",
       "      <th></th>\n",
       "      <th>Budget (millions)</th>\n",
       "      <th>Profit (millions)</th>\n",
       "      <th>Domestic ROI Multiplier</th>\n",
       "    </tr>\n",
       "    <tr>\n",
       "      <th>Genre</th>\n",
       "      <th></th>\n",
       "      <th></th>\n",
       "      <th></th>\n",
       "    </tr>\n",
       "  </thead>\n",
       "  <tbody>\n",
       "    <tr>\n",
       "      <th>Action</th>\n",
       "      <td>70.00</td>\n",
       "      <td>-0.989502</td>\n",
       "      <td>0.970905</td>\n",
       "    </tr>\n",
       "    <tr>\n",
       "      <th>Comedy</th>\n",
       "      <td>30.00</td>\n",
       "      <td>6.868437</td>\n",
       "      <td>1.296492</td>\n",
       "    </tr>\n",
       "    <tr>\n",
       "      <th>Drama</th>\n",
       "      <td>22.25</td>\n",
       "      <td>-0.701991</td>\n",
       "      <td>0.943328</td>\n",
       "    </tr>\n",
       "    <tr>\n",
       "      <th>Horror</th>\n",
       "      <td>20.00</td>\n",
       "      <td>10.490808</td>\n",
       "      <td>1.498722</td>\n",
       "    </tr>\n",
       "    <tr>\n",
       "      <th>Thriller</th>\n",
       "      <td>35.00</td>\n",
       "      <td>-1.841102</td>\n",
       "      <td>0.916314</td>\n",
       "    </tr>\n",
       "  </tbody>\n",
       "</table>\n",
       "</div>"
      ],
      "text/plain": [
       "          Budget (millions)  Profit (millions)  Domestic ROI Multiplier\n",
       "Genre                                                                  \n",
       "Action                70.00          -0.989502                 0.970905\n",
       "Comedy                30.00           6.868437                 1.296492\n",
       "Drama                 22.25          -0.701991                 0.943328\n",
       "Horror                20.00          10.490808                 1.498722\n",
       "Thriller              35.00          -1.841102                 0.916314"
      ]
     },
     "execution_count": 221,
     "metadata": {},
     "output_type": "execute_result"
    }
   ],
   "source": [
    "top_5_genres_df[['Genre', 'Budget (millions)', 'Profit (millions)', 'Domestic ROI Multiplier']].groupby(by='Genre').median()"
   ]
  },
  {
   "cell_type": "markdown",
   "metadata": {},
   "source": [
    "Once we try to account for outliers by taking the median, we get a more nuanced sense of the industry. It appears now\n",
    "that horror movies are still a pretty worthwhile investment, as are comedy movies, given their relatively high profit\n",
    "margin as well as excellent multipliers. Comparatively, action, drama and thriller appear to be riskier ventures. \n",
    "\n",
    "This presentation lets us then ask the question: is there a statistically significant difference between comedy and \n",
    "horror? It appears that horror is the nominally more profitable genre, but let's look at it statistically. To do\n",
    "this, we can perform a bootstrapped comparison of medians."
   ]
  },
  {
   "cell_type": "code",
   "execution_count": 232,
   "metadata": {},
   "outputs": [],
   "source": [
    "# Bootstrapping function to compare the medians of two genres\n",
    "def bootstrap_median_diff(df1, df2, metric):\n",
    "    genre_1_shifted = df1[metric].dropna() - np.median(df1[metric].dropna()) #Shifting medians\n",
    "    genre_2_shifted = df2[metric].dropna() - np.median(df2[metric].dropna())\n",
    "\n",
    "    differences_replicates = np.empty(10000) # Initializing empty list for the 10000 entries\n",
    "    for i in range(10000):\n",
    "        bootstrap_genre_1 = np.random.choice(genre_1_shifted, size=len(genre_1_shifted)) # Bootstrap replicate for the first genre\n",
    "        bootstrap_genre_2 = np.random.choice(genre_2_shifted, size=len(genre_2_shifted)) # 2nd genre bootstrap replicate\n",
    "        bootstrap_median_genre_1 = np.median(bootstrap_genre_1)\n",
    "        bootstrap_median_genre_2 = np.median(bootstrap_genre_2)\n",
    "        differences_replicates[i] = bootstrap_median_genre_1 - bootstrap_median_genre_2 # Store the difference in medians \n",
    "\n",
    "    obs_difference = np.median(df1[metric].dropna()) - np.median(df2[metric].dropna())\n",
    "    pval = sum(differences_replicates >= np.absolute(obs_difference))/10000\n",
    "    return(obs_difference, pval)"
   ]
  },
  {
   "cell_type": "code",
   "execution_count": 231,
   "metadata": {},
   "outputs": [
    {
     "data": {
      "text/plain": [
       "3"
      ]
     },
     "execution_count": 231,
     "metadata": {},
     "output_type": "execute_result"
    }
   ],
   "source": [
    "np.absolute(-1 - 2)"
   ]
  },
  {
   "cell_type": "markdown",
   "metadata": {},
   "source": [
    "## Comparing Domestic ROI Multiplier between Comedy and Horror"
   ]
  },
  {
   "cell_type": "markdown",
   "metadata": {},
   "source": [
    "Although our primary comparison is between comedy and horror, it is perhaps still informative to look at differences\n",
    "between all genres, just for fun. "
   ]
  },
  {
   "cell_type": "code",
   "execution_count": 233,
   "metadata": {},
   "outputs": [],
   "source": [
    "# Storing the result of all comparisons for Domestic ROI Multiplier\n",
    "genres = ['Drama', 'Comedy', 'Action', 'Thriller', 'Horror']\n",
    "test = pd.DataFrame(index=genres, columns=genres) \n",
    "\n",
    "test.loc['Drama', 'Comedy'] = bootstrap_median_diff(drama_df, comedy_df, 'Domestic ROI Multiplier')[1]\n",
    "test.loc['Drama', 'Action'] = bootstrap_median_diff(drama_df, action_df, 'Domestic ROI Multiplier')[1]\n",
    "test.loc['Drama', 'Thriller'] = bootstrap_median_diff(drama_df, thriller_df, 'Domestic ROI Multiplier')[1]\n",
    "test.loc['Drama', 'Horror'] = bootstrap_median_diff(drama_df, horror_df, 'Domestic ROI Multiplier')[1]\n",
    "test.loc['Comedy', 'Action'] = bootstrap_median_diff(comedy_df, action_df, 'Domestic ROI Multiplier')[1]\n",
    "test.loc['Comedy', 'Thriller'] = bootstrap_median_diff(comedy_df, thriller_df, 'Domestic ROI Multiplier')[1]\n",
    "test.loc['Comedy', 'Horror'] = bootstrap_median_diff(comedy_df, horror_df, 'Domestic ROI Multiplier')[1]\n",
    "test.loc['Action', 'Thriller'] = bootstrap_median_diff(comedy_df, thriller_df, 'Domestic ROI Multiplier')[1]\n",
    "test.loc['Action', 'Horror'] = bootstrap_median_diff(comedy_df, horror_df, 'Domestic ROI Multiplier')[1]\n",
    "test.loc['Thriller', 'Horror'] = bootstrap_median_diff(thriller_df, horror_df, 'Domestic ROI Multiplier')[1]\n"
   ]
  },
  {
   "cell_type": "code",
   "execution_count": 234,
   "metadata": {},
   "outputs": [
    {
     "data": {
      "text/plain": [
       "Text(0.5, 1.0, 'P-values for Domestic ROI Multiplier comparisons between genres')"
      ]
     },
     "execution_count": 234,
     "metadata": {},
     "output_type": "execute_result"
    },
    {
     "data": {
      "image/png": "[encoded data removed]",
      "text/plain": [
       "<Figure size 432x288 with 2 Axes>"
      ]
     },
     "metadata": {
      "needs_background": "light"
     },
     "output_type": "display_data"
    }
   ],
   "source": [
    "# Creating a diagonal matrix and heatmap\n",
    "np.fill_diagonal(test.values, 1) # Filling in the diagonal of the matrix\n",
    "test.fillna(value=np.nan, inplace=True)\n",
    "mask = test.isnull() # creating a mask that will not be shown in the final image\n",
    "fig = sns.heatmap(test, mask=mask, annot=True)\n",
    "fig.set_title(\"P-values for Domestic ROI Multiplier comparisons between genres\", fontsize=12)"
   ]
  },
  {
   "cell_type": "markdown",
   "metadata": {},
   "source": [
    "The figure is certainly striking, and tells us that most of the time, the genres significantly differ from one another\n",
    "in terms of their multipliers! "
   ]
  },
  {
   "cell_type": "code",
   "execution_count": 235,
   "metadata": {},
   "outputs": [],
   "source": [
    "## Comparing absolute profit between genres\n",
    "profitcomp_df = pd.DataFrame(index=genres, columns=genres) \n",
    "\n",
    "profitcomp_df.loc['Drama', 'Comedy'] = bootstrap_median_diff(drama_df, comedy_df, 'Profit (millions)')[1]\n",
    "profitcomp_df.loc['Drama', 'Action'] = bootstrap_median_diff(drama_df, action_df, 'Profit (millions)')[1]\n",
    "profitcomp_df.loc['Drama', 'Thriller'] = bootstrap_median_diff(drama_df, thriller_df, 'Profit (millions)')[1]\n",
    "profitcomp_df.loc['Drama', 'Horror'] = bootstrap_median_diff(drama_df, horror_df, 'Profit (millions)')[1]\n",
    "profitcomp_df.loc['Comedy', 'Action'] = bootstrap_median_diff(comedy_df, action_df, 'Profit (millions)')[1]\n",
    "profitcomp_df.loc['Comedy', 'Thriller'] = bootstrap_median_diff(comedy_df, thriller_df, 'Profit (millions)')[1]\n",
    "profitcomp_df.loc['Comedy', 'Horror'] = bootstrap_median_diff(comedy_df, horror_df, 'Profit (millions)')[1]\n",
    "profitcomp_df.loc['Action', 'Thriller'] = bootstrap_median_diff(comedy_df, thriller_df, 'Profit (millions)')[1]\n",
    "profitcomp_df.loc['Action', 'Horror'] = bootstrap_median_diff(comedy_df, horror_df, 'Profit (millions)')[1]\n",
    "profitcomp_df.loc['Thriller', 'Horror'] = bootstrap_median_diff(thriller_df, horror_df, 'Profit (millions)')[1]"
   ]
  },
  {
   "cell_type": "code",
   "execution_count": 236,
   "metadata": {},
   "outputs": [
    {
     "data": {
      "text/plain": [
       "Text(0.5, 1.0, 'P-values for Profit comparisons between genres')"
      ]
     },
     "execution_count": 236,
     "metadata": {},
     "output_type": "execute_result"
    },
    {
     "data": {
      "image/png": "[encoded data removed]",
      "text/plain": [
       "<Figure size 432x288 with 2 Axes>"
      ]
     },
     "metadata": {
      "needs_background": "light"
     },
     "output_type": "display_data"
    }
   ],
   "source": [
    "# Creating a diagonal matrix and heatmap\n",
    "np.fill_diagonal(profitcomp_df.values, 1) # Filling in the diagonal of the matrix\n",
    "profitcomp_df.fillna(value=np.nan, inplace=True)\n",
    "mask = profitcomp_df.isnull() # creating a mask that will not be shown in the final image\n",
    "fig = sns.heatmap(profitcomp_df, mask=mask, annot=True)\n",
    "fig.set_title(\"P-values for Profit comparisons between genres\", fontsize=12)"
   ]
  },
  {
   "cell_type": "markdown",
   "metadata": {},
   "source": [
    "If we use profit as the means of comparison, we also tend to notice significant differences between genres, although\n",
    "it is slightly more nuanced than when we use multipliers. Most of the general patterns still remain, but now we find \n",
    "that horror does not significantly differ from comedy or action movies when it comes to amount of profit earned."
   ]
  },
  {
   "cell_type": "markdown",
   "metadata": {},
   "source": [
    "More to come in the milestone report!"
   ]
  },
  {
   "cell_type": "code",
   "execution_count": null,
   "metadata": {},
   "outputs": [],
   "source": []
  }
 ],
 "metadata": {
  "kernelspec": {
   "display_name": "Python 3",
   "language": "python",
   "name": "python3"
  },
  "language_info": {
   "codemirror_mode": {
    "name": "ipython",
    "version": 3
   },
   "file_extension": ".py",
   "mimetype": "text/x-python",
   "name": "python",
   "nbconvert_exporter": "python",
   "pygments_lexer": "ipython3",
   "version": "3.7.1"
  }
 },
 "nbformat": 4,
 "nbformat_minor": 2
}
